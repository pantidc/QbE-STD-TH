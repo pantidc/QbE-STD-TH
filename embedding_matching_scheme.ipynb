{
 "cells": [
  {
   "cell_type": "markdown",
   "metadata": {},
   "source": [
    "The embedding-matching scheme is crucial for achieving accurate word discrimination in Query-by-Example Spoken Term Detection (QbE-STD) tasks. Below is a Python code snippet illustrating how to implement the embedding-matching scheme."
   ]
  },
  {
   "cell_type": "code",
   "execution_count": null,
   "metadata": {},
   "outputs": [],
   "source": [
    "import tensorflow as tf\n",
    "import numpy as np"
   ]
  },
  {
   "cell_type": "code",
   "execution_count": null,
   "metadata": {},
   "outputs": [],
   "source": [
    "embedding_model = tf.keras.models.load_model(\"model_path\")"
   ]
  },
  {
   "cell_type": "markdown",
   "metadata": {},
   "source": [
    "## Generate Embeddings from A2E-Net"
   ]
  },
  {
   "cell_type": "markdown",
   "metadata": {},
   "source": [
    "Assuming you have trained your A2E-Net model (model), and have a sequence of acoustic segments (acoustic_segments) as well as a sequence of acoustic signals of a spoken query term (spoken_query_terms):"
   ]
  },
  {
   "cell_type": "code",
   "execution_count": null,
   "metadata": {},
   "outputs": [],
   "source": [
    "# Each element in the sequence would be a NumPy array representing the acoustic features\n",
    "acoustic_segments = #list of NumPy array\n",
    "spoken_query_terms = #list of NumPy array\n",
    "\n",
    "# Generate embeddings for acoustic_segments and spoken_query_terms\n",
    "segment_embeddings = [embedding_model.predict(np.expand_dims(segment, axis=0)) for segment in acoustic_segments]\n",
    "query_embeddings = [embedding_model.predict(np.expand_dims(term, axis=0)) for term in spoken_query_terms]"
   ]
  },
  {
   "cell_type": "markdown",
   "metadata": {},
   "source": [
    "## Compute Basis Embedding "
   ]
  },
  {
   "cell_type": "code",
   "execution_count": null,
   "metadata": {},
   "outputs": [],
   "source": [
    "# Compute the basis embedding c_b by averaging the embeddings of spoken_query_terms\n",
    "c_b = np.mean(query_embeddings, axis=0)"
   ]
  },
  {
   "cell_type": "markdown",
   "metadata": {},
   "source": [
    "## Calculate Cosine Similarity"
   ]
  },
  {
   "cell_type": "code",
   "execution_count": null,
   "metadata": {},
   "outputs": [],
   "source": [
    "from sklearn.metrics.pairwise import cosine_similarity\n",
    "\n",
    "# Calculate cosine similarity\n",
    "cosine_scores = [cosine_similarity(embedding, c_b) for embedding in segment_embeddings]"
   ]
  },
  {
   "cell_type": "markdown",
   "metadata": {},
   "source": [
    "## Apply Simple Moving Average (SMA)"
   ]
  },
  {
   "cell_type": "code",
   "execution_count": null,
   "metadata": {},
   "outputs": [],
   "source": [
    "def simple_moving_average(sequence, window_size):\n",
    "    return np.convolve(sequence, np.ones(window_size)/window_size, mode='valid')"
   ]
  },
  {
   "cell_type": "code",
   "execution_count": null,
   "metadata": {},
   "outputs": [],
   "source": [
    "window_size = 3\n",
    "smoothed_scores = simple_moving_average(np.array(cosine_scores).flatten(), window_size)"
   ]
  },
  {
   "cell_type": "markdown",
   "metadata": {},
   "source": [
    "## Spoken term detection (Word-Searching)"
   ]
  },
  {
   "cell_type": "code",
   "execution_count": null,
   "metadata": {},
   "outputs": [],
   "source": [
    "threshold = 0.8  \n",
    "word_occurrences = np.where(smoothed_scores >= threshold)[0]"
   ]
  }
 ],
 "metadata": {
  "kernelspec": {
   "display_name": "speech_env",
   "language": "python",
   "name": "python3"
  },
  "language_info": {
   "name": "python",
   "version": "3.8.16"
  }
 },
 "nbformat": 4,
 "nbformat_minor": 2
}
